{
  "nbformat": 4,
  "nbformat_minor": 0,
  "metadata": {
    "kernelspec": {
      "display_name": "Python 3",
      "language": "python",
      "name": "python3"
    },
    "language_info": {
      "codemirror_mode": {
        "name": "ipython",
        "version": 3
      },
      "file_extension": ".py",
      "mimetype": "text/x-python",
      "name": "python",
      "nbconvert_exporter": "python",
      "pygments_lexer": "ipython3",
      "version": "3.8.6-final"
    },
    "colab": {
      "name": "lab4convolutional.ipynb",
      "provenance": [],
      "collapsed_sections": []
    },
    "accelerator": "GPU"
  },
  "cells": [
    {
      "cell_type": "code",
      "metadata": {
        "id": "y7xJkGIsLqMl"
      },
      "source": [
        "import time\n",
        "import numpy\n",
        "import cv2\n",
        "import numpy as np\n",
        "from keras.datasets import cifar10\n",
        "from keras.models import Sequential\n",
        "from keras.layers import Dense, Flatten, Activation\n",
        "from keras.layers import Dropout\n",
        "from keras.layers.convolutional import Conv2D, MaxPooling2D\n",
        "from keras.utils import np_utils\n",
        "from keras.optimizers import SGD, Adam\n",
        "from sklearn.model_selection import GridSearchCV, ParameterGrid\n",
        "from keras.wrappers.scikit_learn import KerasClassifier\n",
        "from pandas import DataFrame\n",
        "from tensorflow import keras\n",
        "\n",
        "\n",
        "numpy.random.seed(42)"
      ],
      "execution_count": 85,
      "outputs": []
    },
    {
      "cell_type": "code",
      "metadata": {
        "id": "ouqcEwUZLqMm"
      },
      "source": [
        "# Розмір міні-вибірки\n",
        "batch_size = 32\n",
        "# Кількість класів зображень\n",
        "nb_classes = 10\n",
        "# Кількість епох навчання \n",
        "nb_epoch = 25\n",
        "# Розмір зображення\n",
        "img_rows, img_cols = 32, 32\n",
        "# Кількість каналів: RGB\n",
        "img_channels = 3"
      ],
      "execution_count": 86,
      "outputs": []
    },
    {
      "cell_type": "code",
      "metadata": {
        "id": "amb8T2Y2LqMm"
      },
      "source": [
        "# Завантаження даних\n",
        "(X_train, y_train), (X_test, y_test) = cifar10.load_data()"
      ],
      "execution_count": 87,
      "outputs": []
    },
    {
      "cell_type": "code",
      "metadata": {
        "id": "PY6qbicjLqMn"
      },
      "source": [
        "# Нормалізація даних\n",
        "X_train = X_train.astype('float32')\n",
        "X_test = X_test.astype('float32')\n",
        "X_train /= 255\n",
        "X_test /= 255\n",
        "\n",
        "Y_train = np_utils.to_categorical(y_train, nb_classes)\n",
        "Y_test = np_utils.to_categorical(y_test, nb_classes)"
      ],
      "execution_count": 88,
      "outputs": []
    },
    {
      "cell_type": "code",
      "metadata": {
        "id": "OfiTjNYeLqMn"
      },
      "source": [
        "def create_model(learn_rate=0.01, beta_1=0.95, momentum=0.9):\n",
        "  # Створення нейромережевої моделі\n",
        "  model = Sequential()\n",
        "  # Перший шар згортки\n",
        "  model.add(Conv2D(32, (3, 3), padding='same',\n",
        "                          input_shape=(32, 32, 3), activation='relu'))\n",
        "  # Друний шар згортки\n",
        "  model.add(Conv2D(32, (3, 3), activation='relu', padding='same'))\n",
        "  # Перший шар субдискретизаії \n",
        "  model.add(MaxPooling2D(pool_size=(2, 2)))\n",
        "  # Перший шар Dropout\n",
        "  model.add(Dropout(0.25))\n",
        "\n",
        "  # Третій шар згортки\n",
        "  model.add(Conv2D(64, (3, 3), padding='same', activation='relu'))\n",
        "  # Четвертий шар згортки\n",
        "  model.add(Conv2D(64, (3, 3), activation='relu'))\n",
        "  # Другий шар субдисктеризації\n",
        "  model.add(MaxPooling2D(pool_size=(2, 2)))\n",
        "  # Другий шар Dropout\n",
        "  model.add(Dropout(0.25))\n",
        "  # Шар перетворення вхідних даних \n",
        "  model.add(Flatten())\n",
        "  # Повнозв’язний шар\n",
        "  model.add(Dense(512, activation='relu'))\n",
        "  # Третій шар Dropout\n",
        "  model.add(Dropout(0.5))\n",
        "  # Вихідний шар \n",
        "  model.add(Dense(nb_classes, activation='softmax'))\n",
        "\n",
        "  # Параметри оптимізації\n",
        "  sgd = SGD(lr=learn_rate, decay=1e-6, momentum=momentum, nesterov=True)\n",
        "  # adam = Adam(learning_rate=learn_rate, beta_1=beta_1, beta_2=0.999, epsilon=1e-07)\n",
        "  model.compile(loss='categorical_crossentropy',\n",
        "                optimizer=sgd,\n",
        "                metrics=['accuracy'])\n",
        "  return model"
      ],
      "execution_count": 89,
      "outputs": []
    },
    {
      "cell_type": "code",
      "metadata": {
        "id": "4xwlZUW8Qi8e"
      },
      "source": [
        "# Навчання  моделі\n",
        "# model = create_model()\n",
        "# history = model.fit(X_train, Y_train,\n",
        "#               batch_size=batch_size,\n",
        "#               epochs=nb_epoch,\n",
        "#               validation_split=0.1,\n",
        "#               shuffle=True,\n",
        "#               verbose=2)"
      ],
      "execution_count": 90,
      "outputs": []
    },
    {
      "cell_type": "code",
      "metadata": {
        "id": "W26S2I8lLqMn",
        "colab": {
          "base_uri": "https://localhost:8080/"
        },
        "outputId": "bb946ec2-5be4-49fa-bd13-64cece3f4678"
      },
      "source": [
        "# Оцінка якості навчання на тестових даних\n",
        "scores = model.evaluate(X_test, Y_test)\n",
        "print(\"Accuracy on test data: %.2f%%\" % (scores[1]*100))\n"
      ],
      "execution_count": 91,
      "outputs": [
        {
          "output_type": "stream",
          "text": [
            "313/313 [==============================] - 1s 3ms/step - loss: 0.7427 - accuracy: 0.7563\n",
            "Accuracy on test data: 75.63%\n"
          ],
          "name": "stdout"
        }
      ]
    },
    {
      "cell_type": "code",
      "metadata": {
        "id": "WtrjcH8MLqMn"
      },
      "source": [
        "# Збереження моделі\n",
        "model.save('my_model.h5')  "
      ],
      "execution_count": 92,
      "outputs": []
    },
    {
      "cell_type": "code",
      "metadata": {
        "id": "w4ltH319LqMn"
      },
      "source": [
        "\n",
        "\n",
        "model = keras.models.load_model('my_model.h5') "
      ],
      "execution_count": 93,
      "outputs": []
    },
    {
      "cell_type": "code",
      "metadata": {
        "colab": {
          "base_uri": "https://localhost:8080/"
        },
        "id": "N_rOpwGifjhZ",
        "outputId": "f2375f3d-d446-49cc-add7-fd6bbdafe88f"
      },
      "source": [
        "try:\n",
        "    img = cv2.imread('cat.jpg')\n",
        "    img = cv2.resize(img,(32,32))\n",
        "    img = np.reshape(img,[1,32,32,3])\n",
        "    print(model.predict(img))\n",
        "    print([['plane'],['automobile'],['bird'],['cat'],['deer'],['dog'],['frog'],['horse'],['ship'],['truck'],])\n",
        "\n",
        "except Exception as e:\n",
        "    print(str(e))"
      ],
      "execution_count": 94,
      "outputs": [
        {
          "output_type": "stream",
          "text": [
            "WARNING:tensorflow:6 out of the last 12 calls to <function Model.make_predict_function.<locals>.predict_function at 0x7f44346476a8> triggered tf.function retracing. Tracing is expensive and the excessive number of tracings could be due to (1) creating @tf.function repeatedly in a loop, (2) passing tensors with different shapes, (3) passing Python objects instead of tensors. For (1), please define your @tf.function outside of the loop. For (2), @tf.function has experimental_relax_shapes=True option that relaxes argument shapes that can avoid unnecessary retracing. For (3), please refer to https://www.tensorflow.org/tutorials/customization/performance#python_or_tensor_args and https://www.tensorflow.org/api_docs/python/tf/function for  more details.\n",
            "[[1.9482437e-05 0.0000000e+00 0.0000000e+00 9.9998057e-01 0.0000000e+00\n",
            "  1.5102139e-35 0.0000000e+00 0.0000000e+00 3.8334558e-34 0.0000000e+00]]\n",
            "[['plane'], ['automobile'], ['bird'], ['cat'], ['deer'], ['dog'], ['frog'], ['horse'], ['ship'], ['truck']]\n"
          ],
          "name": "stdout"
        }
      ]
    }
  ]
}